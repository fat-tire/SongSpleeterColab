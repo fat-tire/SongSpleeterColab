{
  "nbformat": 4,
  "nbformat_minor": 0,
  "metadata": {
    "colab": {
      "name": "Song Spleeter Colab",
      "provenance": [],
      "collapsed_sections": []
    },
    "kernelspec": {
      "name": "python3",
      "display_name": "Python 3"
    },
    "accelerator": "GPU"
  },
  "cells": [
    {
      "cell_type": "markdown",
      "metadata": {
        "id": "d-UuX3LaRPwD",
        "colab_type": "text"
      },
      "source": [
        "# Song \"Spleeter\" Demo\n",
        "\n",
        "<img src=\"https://raw.githubusercontent.com/deezer/spleeter/master/images/spleeter_logo.png\" width=\"250px\"/>\n",
        "\n",
        "### A click-through web page by [fat-tire](https://twitter.com/fat__tire)\n",
        "\n",
        "----\n",
        "\n",
        "*Note:  All credit for this goes to [Deezer](https://developers.deezer.com/) who created and trained the network and [provided it to the public](https://github.com/deezer/spleeter).  I'm just putting it in a slightly-easier click-through format within a Google Collaboratory web page.  [Deezer's github page](https://github.com/deezer/spleeter) also offers a [similar demo](https://colab.research.google.com/github/deezer/spleeter/blob/master/spleeter.ipynb), but this one here makes it very easy to upload your own songs + download the results.  It also uses the GPU version for faster processing.*\n",
        "\n",
        "**Spleeter** is a deep learning network that can separate (split, or \"spleet\") a singer(s) vocals from the music.  You give it a \"song.mp3\", and it gives you two mp3s out: \"vocals.mp3\" and \"accompaniment.mp3\".  Spleeter supports various dimensions of separation, but the demo here just spleets into two parts (or \"stems\").  Deezer provides more details [here](https://github.com/deezer/spleeter/blob/master/README.md), including instructions for the other audio separation stems:  vocals, bass, drums, piano, & other.\n",
        "\n",
        "Potential uses for this might be to create tracks for:\n",
        "\n",
        "* Parodies\n",
        "* Karaoke\n",
        "* Remixes\n",
        "* Education  (like, what ARE the lyrics in [Louie Louie](https://www.youtube.com/watch?v=xKt75jUuKJY)?  Is there a [hidden F-bomb in Hey Jude](https://www.youtube.com/watch?v=qyo1ScwcDAc)?)\n",
        "* Rehearsal\n",
        "\n",
        "Instructions:  Have an mp3 standing by with your favorite song (Note: also a song you are authorized/licensed to use).  Now click through the \"play\" buttons below.  I'll walk you through the steps.\n",
        "\n",
        "_Disclaimer_:  Use entirely at your own risk.  Do not violate copyrights.  Make sure you are authorized/licensed to use your audio with Spleeter.  See Deezer's original license [here](https://github.com/deezer/spleeter/blob/master/LICENSE).  Additions/changes by fat-tire in this collabatory document are also offered under the [MIT license](https://github.com/fat-tire/SongSpleeterColab/blob/master/LICENSE). Feel free to fork or save a copy of this Colab in Drive or Github (it's even an option under File in the menu above) or print out and press with flowers into your journal.\n",
        "\n"
      ]
    },
    {
      "cell_type": "markdown",
      "metadata": {
        "id": "V_6cuTwbRrxA",
        "colab_type": "text"
      },
      "source": [
        "###STEP ONE:\n",
        "\n",
        "This first section will download all the prerequisites and set everything up.  Press the play button below and then wait about 10-15 minutes.\n",
        "\n",
        "⬇ Press the play button below"
      ]
    },
    {
      "cell_type": "code",
      "metadata": {
        "id": "ZVZbdTPRRLUA",
        "colab_type": "code",
        "colab": {}
      },
      "source": [
        "# we need pydub for later\n",
        "! pip3 install pydub\n",
        "\n",
        "# and this\n",
        "from google.colab import files\n",
        "import IPython.display as ipd\n",
        "import sys\n",
        "\n",
        "# get Anaconda...\n",
        "! wget -c https://repo.anaconda.com/archive/Anaconda3-2019.10-Linux-x86_64.sh\n",
        "! chmod +x Anaconda3-2019.10-Linux-x86_64.sh\n",
        "! bash ./Anaconda3-2019.10-Linux-x86_64.sh -b -f -p /usr/local\n",
        "sys.path.append('/usr/local/lib/python3.6/site-packages/')\n",
        "\n",
        "# get spleeter dependencies\n",
        "! sudo git clone  https://github.com/deezer/spleeter\n",
        "! wget https://github.com/deezer/spleeter/blob/master/conda/spleeter-gpu.yaml\n",
        "\n",
        "# set stuff up.  This takes a while.\n",
        "! conda env create -f spleeter/conda/spleeter-gpu.yaml\n",
        "\n",
        "# this goes fast.\n",
        "! source activate spleeter-gpu\n",
        "! export PATH=$\"/usr/local/envs/spleeter-gpu/bin:$PATH\""
      ],
      "execution_count": 0,
      "outputs": []
    },
    {
      "cell_type": "markdown",
      "metadata": {
        "id": "46n-JHs8SL9D",
        "colab_type": "text"
      },
      "source": [
        "Now that we're done downloading and setting everything up, it's time for...\n",
        "\n"
      ]
    },
    {
      "cell_type": "markdown",
      "metadata": {
        "id": "51nvpjILRgQ-",
        "colab_type": "text"
      },
      "source": [
        "\n",
        "### STEP TWO\n",
        "\n",
        "Upload Your \"song.mp3!\"!\n",
        "\n",
        "**On your computer, rename your song \"song.mp3\".  This is important, and I'm making you do this because I am too lazy to check the file's name.  The nice thing about colab pages like this one is you can copy/fork it and make your own better version...**\n",
        "\n",
        "(If you don't have a \"song.mp3\" and want to use the original demo example, you can skip this and go to STEP THREE below.)\n",
        "\n",
        "Press the `play button` to the left of the code section directly below, then select `Choose Files` and select your \"song.mp3\" on your computer.  The file should be uploaded, then moved to the right place.\n",
        "\n",
        "⬇ get your \"song.mp3\" file ready and press here"
      ]
    },
    {
      "cell_type": "code",
      "metadata": {
        "id": "pXXaZRJeShe8",
        "colab_type": "code",
        "colab": {}
      },
      "source": [
        "! rm -f song.mp3  # remove the song.mp3 if it exists\n",
        "files.upload()\n",
        "! echo \"Moving song.mp3....\"\n",
        "! mv song.mp3 spleeter/audio_example.mp3"
      ],
      "execution_count": 0,
      "outputs": []
    },
    {
      "cell_type": "markdown",
      "metadata": {
        "id": "nv4aWYWmS8W-",
        "colab_type": "text"
      },
      "source": [
        "The following line will split the file into the two parts (voice and accompaniment), which will be outputted as \"wav\" files.  (Don't worry, we'll convert it to mp3 before you download.)\n",
        "\n",
        "⬇ Start Spleetin'!"
      ]
    },
    {
      "cell_type": "code",
      "metadata": {
        "id": "iFDrM3pBS6g8",
        "colab_type": "code",
        "colab": {}
      },
      "source": [
        "! /usr/local/envs/spleeter-gpu/bin/spleeter separate -i spleeter/audio_example.mp3 -p spleeter:2stems -o output"
      ],
      "execution_count": 0,
      "outputs": []
    },
    {
      "cell_type": "markdown",
      "metadata": {
        "id": "VyeRQ4IFTIRr",
        "colab_type": "text"
      },
      "source": [
        "### STEP THREE\n",
        "\n",
        "That went fast, huh?\n",
        "\n",
        "⬇ Now let's convert the output sound wav files-> mp3."
      ]
    },
    {
      "cell_type": "code",
      "metadata": {
        "id": "HeGoqaFMTMM7",
        "colab_type": "code",
        "colab": {}
      },
      "source": [
        "from pydub import AudioSegment\n",
        "sound = AudioSegment.from_wav(\"output/audio_example/vocals.wav\")\n",
        "sound.export(\"output/audio_example/vocals.mp3\", format=\"mp3\")\n",
        "sound = AudioSegment.from_wav(\"output/audio_example/accompaniment.wav\")\n",
        "sound.export(\"output/audio_example/accompaniment.mp3\", format=\"mp3\")"
      ],
      "execution_count": 0,
      "outputs": []
    },
    {
      "cell_type": "markdown",
      "metadata": {
        "id": "-Pmji-jiTPH6",
        "colab_type": "text"
      },
      "source": [
        "### STEP FOUR\n",
        "\n",
        "Let's preview just the vocals..."
      ]
    },
    {
      "cell_type": "code",
      "metadata": {
        "id": "_DBdKusDTVf6",
        "colab_type": "code",
        "colab": {}
      },
      "source": [
        "ipd.Audio('output/audio_example/vocals.mp3')"
      ],
      "execution_count": 0,
      "outputs": []
    },
    {
      "cell_type": "markdown",
      "metadata": {
        "id": "K7SVvhtNTX3H",
        "colab_type": "text"
      },
      "source": [
        "Now let's preview just the music..."
      ]
    },
    {
      "cell_type": "code",
      "metadata": {
        "id": "Bg0ngHe4TV_1",
        "colab_type": "code",
        "colab": {}
      },
      "source": [
        "ipd.Audio('output/audio_example/accompaniment.mp3')"
      ],
      "execution_count": 0,
      "outputs": []
    },
    {
      "cell_type": "markdown",
      "metadata": {
        "id": "JwF_qCCMw6Fb",
        "colab_type": "text"
      },
      "source": [
        "Again, here is the original..."
      ]
    },
    {
      "cell_type": "code",
      "metadata": {
        "id": "vnbViU5-v06W",
        "colab_type": "code",
        "colab": {}
      },
      "source": [
        "ipd.Audio('spleeter/audio_example.mp3')of"
      ],
      "execution_count": 0,
      "outputs": []
    },
    {
      "cell_type": "markdown",
      "metadata": {
        "id": "AM8RijhrTVyW",
        "colab_type": "text"
      },
      "source": [
        "### STEP FIVE\n",
        "\n",
        "Sound good?  Download the vocals below."
      ]
    },
    {
      "cell_type": "code",
      "metadata": {
        "id": "p8-lGGxQTmPE",
        "colab_type": "code",
        "colab": {}
      },
      "source": [
        "files.download('output/audio_example/vocals.mp3')"
      ],
      "execution_count": 0,
      "outputs": []
    },
    {
      "cell_type": "markdown",
      "metadata": {
        "id": "bvvLIBVjTllF",
        "colab_type": "text"
      },
      "source": [
        "Download the music below."
      ]
    },
    {
      "cell_type": "code",
      "metadata": {
        "id": "_Ci1xGCTTpFs",
        "colab_type": "code",
        "colab": {}
      },
      "source": [
        "files.download('output/audio_example/accompaniment.mp3')"
      ],
      "execution_count": 0,
      "outputs": []
    },
    {
      "cell_type": "markdown",
      "metadata": {
        "id": "Rwlvr0GqT4td",
        "colab_type": "text"
      },
      "source": [
        "To start again, just upload a new \"song.mp3\" in STEP TWO above and just re-do the subsequent steps.\n",
        "\n",
        "If you liked this page, you can fork it and make changes.  Dont' forget to smash that Like button-- wait, there's no Like button.  Well subscribe to my channel.  No channel either?  Dammit.  Well, umm.... you can follow me on Twitter I guess at the link below.\n",
        "\n",
        "--[fat-tire](https://twitter.com/fat__tire)\n",
        "\n",
        "Here's the citation Deezer requested.  No idea how this is supposed to be formatted, but here it is raw:\n",
        "\n",
        "```\n",
        "@misc{spleeter2019,\n",
        "  title={Spleeter: A Fast And State-of-the Art Music Source Separation Tool With Pre-trained Models},\n",
        "  author={Romain Hennequin and Anis Khlif and Felix Voituret and Manuel Moussallam},\n",
        "  howpublished={Late-Breaking/Demo ISMIR 2019},\n",
        "  month={November},\n",
        "  note={Deezer Research},\n",
        "  year={2019}\n",
        "}\n",
        "```\n",
        "\n"
      ]
    },
    {
      "cell_type": "markdown",
      "metadata": {
        "id": "pzTSInTb16zx",
        "colab_type": "text"
      },
      "source": [
        "As mentioned, you can save a copy [of this colab page](https://colab.research.google.com/github/fat-tire/SongSpleeterColab/blob/master/Song_Spleeter_Colab.ipynb) to modify yourself.  Or, here's a [GitHub repository link](https://github.com/fat-tire/SongSpleeterColab).  Pull requests are welcome!\n",
        "\n",
        "Ideas:  you might make a version that isolates the piano tracks or processes multiple songs at a time.  Or maybe you give it a URL from YouTube (using ONLY songs that you owned or are licensed to use of course) and it splits them for you.  A [mobile music app](https://www.tensorflow.org/lite/guide/android) that only plays karaoke singalong tracks would be cool...  I'm sure you'll think of neat stuff to try.\n",
        "\n",
        "Enjoy!"
      ]
    }
  ]
}